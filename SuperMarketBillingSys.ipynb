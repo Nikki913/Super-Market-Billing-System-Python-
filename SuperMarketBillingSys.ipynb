{
 "cells": [
  {
   "cell_type": "code",
   "execution_count": 8,
   "id": "9a241d59-3912-4fb7-be65-1a0ca2af8a64",
   "metadata": {},
   "outputs": [
    {
     "name": "stdout",
     "output_type": "stream",
     "text": [
      "Welcome to Nikki's Supermarket\n",
      "*************************DIWALI DHAMAKA OFFER*********************\n",
      "***If you buy total items worth more than 200 Rs, 5% Off Off Off***\n",
      "***If you buy total items worth more than 400 Rs, 10% Off Off Off***\n",
      "***If you buy total items worth more than 500 Rs, 15% Off Off Off***\n",
      "***If you buy total items worth more than 1000 Rs, 25% Off Off Off***\n"
     ]
    },
    {
     "name": "stdin",
     "output_type": "stream",
     "text": [
      "Enter your name:  Nikki\n"
     ]
    },
    {
     "name": "stdout",
     "output_type": "stream",
     "text": [
      "Hi Nikki here are the items available in the store: \n",
      "milk : $ 40\n",
      "pasta : $ 60\n",
      "butter : $ 20\n",
      "bread : $ 20\n",
      "onion : $ 35\n",
      "Chips : $ 20\n",
      "yogurt : $ 50\n"
     ]
    },
    {
     "name": "stdin",
     "output_type": "stream",
     "text": [
      "Please enter the item you want to buy or type Done for checkout  pasta\n",
      "Please enter quantity you want 20\n"
     ]
    },
    {
     "name": "stdout",
     "output_type": "stream",
     "text": [
      "****Current Cart****\n",
      "Item : Cost : Quantity : Total Cost\n",
      "pasta : 60 :    20 :       1200\n",
      "Current total amount for the items= 1200\n"
     ]
    },
    {
     "name": "stdin",
     "output_type": "stream",
     "text": [
      "Please enter the item you want to buy or type Done for checkout  milk\n",
      "Please enter quantity you want 10\n"
     ]
    },
    {
     "name": "stdout",
     "output_type": "stream",
     "text": [
      "****Current Cart****\n",
      "Item : Cost : Quantity : Total Cost\n",
      "pasta : 60 :    20 :       1200\n",
      "milk : 40 :    10 :       400\n",
      "Current total amount for the items= 1600\n"
     ]
    },
    {
     "name": "stdin",
     "output_type": "stream",
     "text": [
      "Please enter the item you want to buy or type Done for checkout  chips\n"
     ]
    },
    {
     "name": "stdout",
     "output_type": "stream",
     "text": [
      "Entered item not available in store\n",
      "****Current Cart****\n",
      "Item : Cost : Quantity : Total Cost\n",
      "pasta : 60 :    20 :       1200\n",
      "milk : 40 :    10 :       400\n",
      "Current total amount for the items= 1600\n"
     ]
    },
    {
     "name": "stdin",
     "output_type": "stream",
     "text": [
      "Please enter the item you want to buy or type Done for checkout  6\n"
     ]
    },
    {
     "name": "stdout",
     "output_type": "stream",
     "text": [
      "Entered item not available in store\n",
      "****Current Cart****\n",
      "Item : Cost : Quantity : Total Cost\n",
      "pasta : 60 :    20 :       1200\n",
      "milk : 40 :    10 :       400\n",
      "Current total amount for the items= 1600\n"
     ]
    },
    {
     "name": "stdin",
     "output_type": "stream",
     "text": [
      "Please enter the item you want to buy or type Done for checkout  done\n"
     ]
    },
    {
     "name": "stdout",
     "output_type": "stream",
     "text": [
      "\n",
      "*********************** RECEIPT *************************\n",
      "\n",
      "Item : Cost : Quantity : Total Cost\n",
      "pasta : 60 :    20 :       1200\n",
      "milk : 40 :    10 :       400\n",
      "Total amount for the items= 1600\n",
      "Discount amount with 25% discount: 400.0\n",
      "Total amount to be paid with discount: 1200.0\n"
     ]
    }
   ],
   "source": [
    "print(\"Welcome to Nikki's Supermarket\")\n",
    "print(\"*************************DIWALI DHAMAKA OFFER*********************\")\n",
    "print(\"***If you buy total items worth more than 200 Rs, 5% Off Off Off***\")\n",
    "print(\"***If you buy total items worth more than 400 Rs, 10% Off Off Off***\")\n",
    "print(\"***If you buy total items worth more than 500 Rs, 15% Off Off Off***\")\n",
    "print(\"***If you buy total items worth more than 1000 Rs, 25% Off Off Off***\")\n",
    "\n",
    "user=input(\"Enter your name: \")\n",
    "store_items={\"milk\":40,\n",
    "            \"pasta\":60,\n",
    "            \"butter\":20,\n",
    "            \"bread\":20,\n",
    "            \"onion\":35,\n",
    "            \"Chips\":20,\n",
    "            \"yogurt\":50}\n",
    "\n",
    "print(\"Hi\", user, \"here are the items available in the store: \")\n",
    "for item,price in store_items.items():\n",
    "    print(item,\":\",\"$\",price) #Display product name and price\n",
    "\n",
    "cart={} \n",
    "total=0\n",
    "add_item=\"\"\n",
    "while add_item!=\"done\": \n",
    "    add_item=input(\"Please enter the item you want to buy or type Done for checkout \").lower()\n",
    "    if add_item==\"done\": # for exit loop\n",
    "        break\n",
    "    elif add_item in store_items:\n",
    "        item_quantity=int(input(\"Please enter quantity you want\"))\n",
    "        cost=store_items[add_item]*item_quantity\n",
    "        cart[add_item] = {\"qty\": item_quantity, \"cost\": cost}\n",
    "        total+=cost\n",
    "        print(\"****Current Cart****\") \n",
    "        print(\"Item\", \":\", \"Cost\",\":\",\"Quantity\",\":\",\"Total Cost\")\n",
    "        for key, value in cart.items(): #to show cart what items has been added\n",
    "            print(key, \":\", store_items[key],\":   \",value[\"qty\"],\":      \",value[\"cost\"])\n",
    "        print(\"Current total amount for the items=\",total)\n",
    "    else: \n",
    "        print(\"Entered item not available in store\")\n",
    "        print(\"****Current Cart****\")\n",
    "        print(\"Item\", \":\", \"Cost\",\":\",\"Quantity\",\":\",\"Total Cost\")\n",
    "        for key, value in cart.items():\n",
    "            print(key, \":\", store_items[key],\":   \",value[\"qty\"],\":      \",value[\"cost\"])\n",
    "        print(\"Current total amount for the items=\",total)\n",
    "print(\"\")\n",
    "print(\"*********************** RECEIPT *************************\")\n",
    "print(\"\")\n",
    "print(\"Item\", \":\", \"Cost\",\":\",\"Quantity\",\":\",\"Total Cost\")\n",
    "for key, value in cart.items():\n",
    "    print(key, \":\", store_items[key],\":   \",value[\"qty\"],\":      \",value[\"cost\"])\n",
    "print(\"Total amount for the items=\",total)\n",
    "discount=0\n",
    "if 200 <= total <400:\n",
    "    discount=(total*5)/100\n",
    "    print(\"Discount amount with 5% discount:\",discount)\n",
    "elif 400 <= total <500:\n",
    "    discount=(total*10)/100\n",
    "    print(\"Discount amount with 10% discount:\",discount)\n",
    "elif 500 <= total <1000:\n",
    "    discount=(total*15)/100\n",
    "    print(\"Discount amount with 15% discount:\",discount)\n",
    "elif total >= 1000:\n",
    "    discount=(total*25)/100\n",
    "    print(\"Discount amount with 25% discount:\",discount)\n",
    "else:\n",
    "    print(\"No discount applied\")\n",
    "print(\"Total amount to be paid with discount:\",total-discount )\n",
    "\n"
   ]
  }
 ],
 "metadata": {
  "kernelspec": {
   "display_name": "Python 3 (ipykernel)",
   "language": "python",
   "name": "python3"
  },
  "language_info": {
   "codemirror_mode": {
    "name": "ipython",
    "version": 3
   },
   "file_extension": ".py",
   "mimetype": "text/x-python",
   "name": "python",
   "nbconvert_exporter": "python",
   "pygments_lexer": "ipython3",
   "version": "3.13.7"
  }
 },
 "nbformat": 4,
 "nbformat_minor": 5
}
